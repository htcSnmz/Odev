{
 "cells": [
  {
   "cell_type": "code",
   "execution_count": 128,
   "id": "e4ab3ebf",
   "metadata": {},
   "outputs": [],
   "source": [
    "import numpy as np\n",
    "import pandas as pd\n",
    "import keras\n",
    "import matplotlib.pyplot as plt\n",
    "import seaborn as sns"
   ]
  },
  {
   "cell_type": "code",
   "execution_count": 129,
   "id": "69b3716c",
   "metadata": {
    "scrolled": true
   },
   "outputs": [],
   "source": [
    "train = pd.read_csv(r\"C:\\Users\\Hatice\\Desktop\\fashion_mnist\\fashion-mnist_train.csv\")\n",
    "#train.head()"
   ]
  },
  {
   "cell_type": "code",
   "execution_count": 130,
   "id": "4ad9a87c",
   "metadata": {},
   "outputs": [],
   "source": [
    "test = pd.read_csv(r\"C:\\Users\\Hatice\\Desktop\\fashion_mnist\\fashion-mnist_test.csv\")\n",
    "#test.head()"
   ]
  },
  {
   "cell_type": "code",
   "execution_count": 131,
   "id": "d8cd992f",
   "metadata": {},
   "outputs": [],
   "source": [
    "train_data = np.array(train.iloc[:, 1:])\n",
    "train_label = np.array(train.iloc[:, 0])\n",
    "\n",
    "test_data = np.array(test.iloc[:, 1:])\n",
    "test_label = np.array(test.iloc[:, 0])"
   ]
  },
  {
   "cell_type": "code",
   "execution_count": 132,
   "id": "18ebef8d",
   "metadata": {},
   "outputs": [],
   "source": [
    "#train_data.shape"
   ]
  },
  {
   "cell_type": "code",
   "execution_count": 133,
   "id": "5f31d77d",
   "metadata": {},
   "outputs": [],
   "source": [
    "#convert to matrix\n",
    "\n",
    "train_data = np.array([x.reshape(28,28) for x in train_data])\n",
    "test_data = np.array([x.reshape(28,28) for x in test_data])\n",
    "\n",
    "train_data = np.expand_dims(train_data, -1)\n",
    "test_data = np.expand_dims(test_data, -1)"
   ]
  },
  {
   "cell_type": "code",
   "execution_count": 134,
   "id": "f4bd1a73",
   "metadata": {},
   "outputs": [],
   "source": [
    "#train_data.shape\n",
    "#train_label.shape\n",
    "#test_data.shape\n",
    "#test_label.shape"
   ]
  },
  {
   "cell_type": "code",
   "execution_count": 135,
   "id": "c26159ef",
   "metadata": {},
   "outputs": [],
   "source": [
    "#Feature scaling\n",
    "\n",
    "train_data = train_data/255\n",
    "test_data = test_data/255"
   ]
  },
  {
   "cell_type": "code",
   "execution_count": 136,
   "id": "4a973e05",
   "metadata": {},
   "outputs": [],
   "source": [
    "#train_data[0]"
   ]
  },
  {
   "cell_type": "code",
   "execution_count": 138,
   "id": "2cca54d7",
   "metadata": {},
   "outputs": [],
   "source": [
    "#train_data.shape, train_label.shape"
   ]
  },
  {
   "cell_type": "code",
   "execution_count": 139,
   "id": "5e2ce1d3",
   "metadata": {},
   "outputs": [],
   "source": [
    "#data_val.shape, label_val.shape"
   ]
  },
  {
   "cell_type": "code",
   "execution_count": 140,
   "id": "a5ae2088",
   "metadata": {},
   "outputs": [],
   "source": [
    "#Model building\n",
    "\n",
    "model = keras.models.Sequential([\n",
    "    \n",
    "    keras.layers.Conv2D(filters=32, kernel_size=3, strides=(1,1), padding=\"valid\", activation=\"relu\", input_shape=[28,28,1]),\n",
    "    keras.layers.MaxPooling2D(pool_size=(2,2)),\n",
    "    keras.layers.Flatten(),\n",
    "    keras.layers.Dense(units = 128, activation = \"relu\"),\n",
    "    keras.layers.Dense(units = 10, activation = \"softmax\"),\n",
    "])"
   ]
  },
  {
   "cell_type": "code",
   "execution_count": 141,
   "id": "e3b966a1",
   "metadata": {},
   "outputs": [],
   "source": [
    "model.compile(optimizer = \"adam\", loss = \"sparse_categorical_crossentropy\", metrics = [\"accuracy\"])"
   ]
  },
  {
   "cell_type": "code",
   "execution_count": 142,
   "id": "cd9387a4",
   "metadata": {},
   "outputs": [
    {
     "name": "stdout",
     "output_type": "stream",
     "text": [
      "Epoch 1/10\n",
      "118/118 [==============================] - 19s 157ms/step - loss: 0.6006 - accuracy: 0.7926\n",
      "Epoch 2/10\n",
      "118/118 [==============================] - 18s 156ms/step - loss: 0.3696 - accuracy: 0.8704\n",
      "Epoch 3/10\n",
      "118/118 [==============================] - 19s 159ms/step - loss: 0.3244 - accuracy: 0.8856\n",
      "Epoch 4/10\n",
      "118/118 [==============================] - 19s 158ms/step - loss: 0.2927 - accuracy: 0.8961\n",
      "Epoch 5/10\n",
      "118/118 [==============================] - 19s 161ms/step - loss: 0.2706 - accuracy: 0.9040\n",
      "Epoch 6/10\n",
      "118/118 [==============================] - 19s 163ms/step - loss: 0.2533 - accuracy: 0.9096\n",
      "Epoch 7/10\n",
      "118/118 [==============================] - 22s 185ms/step - loss: 0.2413 - accuracy: 0.9130\n",
      "Epoch 8/10\n",
      "118/118 [==============================] - 19s 165ms/step - loss: 0.2273 - accuracy: 0.9183\n",
      "Epoch 9/10\n",
      "118/118 [==============================] - 19s 163ms/step - loss: 0.2146 - accuracy: 0.9232\n",
      "Epoch 10/10\n",
      "118/118 [==============================] - 21s 180ms/step - loss: 0.2035 - accuracy: 0.9276\n"
     ]
    },
    {
     "data": {
      "text/plain": [
       "<keras.callbacks.History at 0x1b081389070>"
      ]
     },
     "execution_count": 142,
     "metadata": {},
     "output_type": "execute_result"
    }
   ],
   "source": [
    "model.fit(train_data, train_label, epochs=10, batch_size=512, verbose=1)"
   ]
  },
  {
   "cell_type": "code",
   "execution_count": 143,
   "id": "80f1d96d",
   "metadata": {
    "scrolled": true
   },
   "outputs": [
    {
     "data": {
      "text/plain": [
       "array([[1.  , 0.  , 0.  , ..., 0.  , 0.  , 0.  ],\n",
       "       [0.  , 1.  , 0.  , ..., 0.  , 0.  , 0.  ],\n",
       "       [0.01, 0.  , 0.82, ..., 0.  , 0.  , 0.  ],\n",
       "       ...,\n",
       "       [0.  , 0.  , 0.  , ..., 0.  , 1.  , 0.  ],\n",
       "       [0.  , 0.  , 0.  , ..., 0.  , 0.99, 0.  ],\n",
       "       [0.01, 0.89, 0.01, ..., 0.  , 0.01, 0.  ]], dtype=float32)"
      ]
     },
     "execution_count": 143,
     "metadata": {},
     "output_type": "execute_result"
    }
   ],
   "source": [
    "#Test the model\n",
    "\n",
    "predict = model.predict(test_data).round(2)\n",
    "predict"
   ]
  },
  {
   "cell_type": "code",
   "execution_count": 144,
   "id": "53412288",
   "metadata": {},
   "outputs": [
    {
     "name": "stdout",
     "output_type": "stream",
     "text": [
      "313/313 [==============================] - 2s 6ms/step - loss: 0.2415 - accuracy: 0.9151\n"
     ]
    },
    {
     "data": {
      "text/plain": [
       "[0.2414598912000656, 0.9150999784469604]"
      ]
     },
     "execution_count": 144,
     "metadata": {},
     "output_type": "execute_result"
    }
   ],
   "source": [
    "model.evaluate(test_data, test_label)"
   ]
  },
  {
   "cell_type": "code",
   "execution_count": 145,
   "id": "abbbea6a",
   "metadata": {},
   "outputs": [
    {
     "name": "stdout",
     "output_type": "stream",
     "text": [
      "Real: 6, Predicted: 6\n",
      "Real: 7, Predicted: 7\n",
      "Real: 8, Predicted: 8\n",
      "Real: 4, Predicted: 4\n",
      "Real: 0, Predicted: 0\n",
      "Real: 1, Predicted: 1\n",
      "Real: 5, Predicted: 5\n",
      "Real: 8, Predicted: 8\n",
      "Real: 4, Predicted: 4\n",
      "Real: 9, Predicted: 9\n",
      "Real: 3, Predicted: 3\n",
      "Real: 9, Predicted: 9\n",
      "Real: 5, Predicted: 5\n",
      "Real: 7, Predicted: 7\n",
      "Real: 3, Predicted: 3\n",
      "Real: 7, Predicted: 7\n",
      "Real: 6, Predicted: 6\n",
      "Real: 8, Predicted: 8\n",
      "Real: 0, Predicted: 0\n",
      "Real: 3, Predicted: 3\n",
      "Real: 5, Predicted: 5\n",
      "Real: 5, Predicted: 5\n",
      "Real: 8, Predicted: 8\n",
      "Real: 3, Predicted: 3\n",
      "Real: 9, Predicted: 9\n",
      "Real: 9, Predicted: 9\n",
      "Real: 1, Predicted: 1\n",
      "Real: 6, Predicted: 6\n",
      "Real: 9, Predicted: 9\n",
      "Real: 5, Predicted: 5\n",
      "Real: 4, Predicted: 4\n",
      "Real: 7, Predicted: 7\n",
      "Real: 1, Predicted: 1\n",
      "Real: 4, Predicted: 4\n",
      "Real: 4, Predicted: 4\n",
      "Real: 6, Predicted: 0\n",
      "Real: 1, Predicted: 1\n",
      "Real: 6, Predicted: 6\n",
      "Real: 3, Predicted: 3\n",
      "Real: 3, Predicted: 3\n",
      "Real: 2, Predicted: 4\n",
      "Real: 5, Predicted: 5\n",
      "Real: 1, Predicted: 1\n",
      "Real: 1, Predicted: 1\n",
      "Real: 5, Predicted: 5\n",
      "Real: 2, Predicted: 2\n",
      "Real: 6, Predicted: 6\n",
      "Real: 2, Predicted: 2\n",
      "Real: 0, Predicted: 0\n",
      "Real: 3, Predicted: 3\n"
     ]
    }
   ],
   "source": [
    "for i in np.random.randint(0, 10000, 50):\n",
    "    print(f\"Real: {test_label[i]}, Predicted: {np.argmax(predict[i])}\")"
   ]
  },
  {
   "cell_type": "code",
   "execution_count": 146,
   "id": "e5a7d63e",
   "metadata": {},
   "outputs": [
    {
     "data": {
      "image/png": "[encoded data removed]",
      "text/plain": [
       "<Figure size 1080x720 with 2 Axes>"
      ]
     },
     "metadata": {
      "needs_background": "light"
     },
     "output_type": "display_data"
    }
   ],
   "source": [
    "#confusion matrix\n",
    "\n",
    "from sklearn.metrics import confusion_matrix, classification_report, accuracy_score\n",
    "\n",
    "plt.figure(figsize=(15,10))\n",
    "predict_labels = [np.argmax(label) for label in predict]\n",
    "conf_matrix = confusion_matrix(test_label, predict_labels)\n",
    "sns.heatmap(conf_matrix, annot = True, fmt = \"d\");\n"
   ]
  },
  {
   "cell_type": "code",
   "execution_count": 147,
   "id": "8ef7676d",
   "metadata": {},
   "outputs": [
    {
     "name": "stdout",
     "output_type": "stream",
     "text": [
      "              precision    recall  f1-score   support\n",
      "\n",
      "           0       0.79      0.93      0.86      1000\n",
      "           1       0.99      0.98      0.99      1000\n",
      "           2       0.88      0.86      0.87      1000\n",
      "           3       0.91      0.94      0.93      1000\n",
      "           4       0.84      0.92      0.88      1000\n",
      "           5       0.99      0.97      0.98      1000\n",
      "           6       0.87      0.62      0.73      1000\n",
      "           7       0.96      0.97      0.96      1000\n",
      "           8       0.98      0.98      0.98      1000\n",
      "           9       0.96      0.97      0.97      1000\n",
      "\n",
      "    accuracy                           0.92     10000\n",
      "   macro avg       0.92      0.92      0.91     10000\n",
      "weighted avg       0.92      0.92      0.91     10000\n",
      "\n"
     ]
    }
   ],
   "source": [
    "classification = classification_report(test_label, predict_labels)\n",
    "print(classification)"
   ]
  },
  {
   "cell_type": "code",
   "execution_count": 148,
   "id": "d8e3dc0b",
   "metadata": {},
   "outputs": [
    {
     "data": {
      "text/plain": [
       "array([0.931, 0.985, 0.861, 0.94 , 0.923, 0.974, 0.623, 0.966, 0.98 ,\n",
       "       0.969])"
      ]
     },
     "execution_count": 148,
     "metadata": {},
     "output_type": "execute_result"
    }
   ],
   "source": [
    "# Accuracy rates of each class in the test:\n",
    "\n",
    "conf_matrix.diagonal()/conf_matrix.sum(axis=1).round(3)"
   ]
  },
  {
   "cell_type": "code",
   "execution_count": 149,
   "id": "140b8c8d",
   "metadata": {},
   "outputs": [
    {
     "data": {
      "text/plain": [
       "array([0.946, 0.988, 0.885, 0.949, 0.929, 0.991, 0.66 , 0.98 , 0.99 ,\n",
       "       0.974])"
      ]
     },
     "execution_count": 149,
     "metadata": {},
     "output_type": "execute_result"
    }
   ],
   "source": [
    "# Accuracy rates of each class in the train:\n",
    "\n",
    "pred_train = model.predict(train_data).round(2)\n",
    "\n",
    "predict_ = [np.argmax(label) for label in pred_train]\n",
    "conf_matrix_train = confusion_matrix(train_label, predict_)\n",
    "(conf_matrix_train.diagonal()/conf_matrix_train.sum(axis=1)).round(3)\n"
   ]
  },
  {
   "cell_type": "code",
   "execution_count": null,
   "id": "4e7fa477",
   "metadata": {},
   "outputs": [],
   "source": []
  }
 ],
 "metadata": {
  "kernelspec": {
   "display_name": "Python 3",
   "language": "python",
   "name": "python3"
  },
  "language_info": {
   "codemirror_mode": {
    "name": "ipython",
    "version": 3
   },
   "file_extension": ".py",
   "mimetype": "text/x-python",
   "name": "python",
   "nbconvert_exporter": "python",
   "pygments_lexer": "ipython3",
   "version": "3.8.8"
  }
 },
 "nbformat": 4,
 "nbformat_minor": 5
}
